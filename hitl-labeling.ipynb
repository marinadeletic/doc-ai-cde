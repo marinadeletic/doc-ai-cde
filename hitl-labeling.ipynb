{
 "cells": [
  {
   "cell_type": "markdown",
   "metadata": {},
   "source": [
    "# Annotating Raw Test Set \n",
    "\n",
    "Please read all comments in each code block before executing it.\n",
    "\n",
    "## Prerequisites\n",
    "### Step 1: Install dependencies. "
   ]
  },
  {
   "cell_type": "code",
   "execution_count": null,
   "metadata": {},
   "outputs": [],
   "source": [
    "!pip install joblib google-cloud-documentai ratelimiter tabulate immutabledict"
   ]
  },
  {
   "cell_type": "markdown",
   "metadata": {},
   "source": [
    "### Step 2: Create a new labeler pool.\n",
    "__Please replace values before invoking the code below.__"
   ]
  },
  {
   "cell_type": "code",
   "execution_count": 2,
   "metadata": {},
   "outputs": [
    {
     "name": "stdout",
     "output_type": "stream",
     "text": [
      "Creating labeler pool...\n",
      "This could take a few seconds. Please wait.\n",
      "Labeler pool created: projects/639644730573/locations/us/labelerPools/8064214206855062731\n"
     ]
    }
   ],
   "source": [
    "from model_factory import http_client\n",
    "\n",
    "# Replace values below\n",
    "LABELER_POOL_DISPLAY_NAME = 'HITL Test Label'\n",
    "LABELER_POOL_MANAGER_EMAILS = ['marinadeletic@google.com']\n",
    "\n",
    "\n",
    "dai_client = http_client.DocumentAIClient()\n",
    "\n",
    "lro_name = dai_client.create_labeler_pool(LABELER_POOL_DISPLAY_NAME , LABELER_POOL_MANAGER_EMAILS)\n",
    "\n",
    "print('Creating labeler pool...\\nThis could take a few seconds. Please wait.')\n",
    "\n",
    "lro = dai_client.wait_for_lro(lro_name)\n",
    "if 'response' in lro:\n",
    "    labeler_pool = lro['response']['name']\n",
    "    print(f'Labeler pool created: {labeler_pool}')\n",
    "else:\n",
    "    print(f'Failed to create labeler pool: {lro}')"
   ]
  },
  {
   "cell_type": "markdown",
   "metadata": {},
   "source": [
    "After the labeler pool is created, labeler pool managers should receive a email including a link to the manager dashboard for managing labeling tasks and labelers. Please follow [the instructions](https://docs.google.com/document/d/11okb4o5-QRG1Dr-a2xtCa3eb4YAnoqcPzkQu7FkxMO0/edit?resourcekey=0-dIJXlmaKj8-T76zyhZX0kA#bookmark=id.1xgo3q3k1g6w) to add labelers to the pool."
   ]
  },
  {
   "cell_type": "markdown",
   "metadata": {},
   "source": [
    "## Processor Development\n",
    "\n",
    "If you lose the connection to the notebook or interrupt the kernel session when you work on the following steps, please start from Step 1 again and optionally skip completed steps. All status including processor config, imported documents, labeled annotations are persisted under the specified workspace in your GCS bucket. \n",
    "\n",
    "### Step 1: Create a processor.\n",
    "In your document bucket create a new folder called 'labeling' and specify the location below\n"
   ]
  },
  {
   "cell_type": "code",
   "execution_count": 10,
   "metadata": {},
   "outputs": [
    {
     "name": "stdout",
     "output_type": "stream",
     "text": [
      "Creating new processor...\n",
      "Processor name: projects/639644730573/locations/us/processors/6b342b7070428fec.\n",
      "Display name: Processor (labeling_2).\n",
      "Done.\n"
     ]
    }
   ],
   "source": [
    "from model_factory import http_client, processor\n",
    "\n",
    "# Replace values below\n",
    "WORKSPACE = 'gs://<BUCKET_NAME>/labeling'\n",
    "\n",
    "new_processor = processor.ExtractionProcessor(WORKSPACE) "
   ]
  },
  {
   "cell_type": "markdown",
   "metadata": {},
   "source": [
    "### Step 2: Provide schema and labeling instructions.\n",
    "\n",
    "Please follow the playbook for detail information about how to prepare the schema and labeling instructions."
   ]
  },
  {
   "cell_type": "code",
   "execution_count": 4,
   "metadata": {},
   "outputs": [
    {
     "name": "stdout",
     "output_type": "stream",
     "text": [
      "Please select one labeler pool from below before running the next code block.\n"
     ]
    },
    {
     "data": {
      "text/html": [
       "<table>\n",
       "<thead>\n",
       "<tr><th>Display Name          </th><th>Labeler Pool                                                        </th><th>Managers                </th></tr>\n",
       "</thead>\n",
       "<tbody>\n",
       "<tr><td>Debs Labeler Pool     </td><td>projects/639644730573/locations/us/labelerPools/10635035648724695338</td><td>deboraelkin@google.com  </td></tr>\n",
       "<tr><td>Marinas Labeler Pool 2</td><td>projects/639644730573/locations/us/labelerPools/4100455005425702955 </td><td>marinadeletic@google.com</td></tr>\n",
       "<tr><td>Debs Labeler Pool 2   </td><td>projects/639644730573/locations/us/labelerPools/6098442292745778478 </td><td>deboraelkin@google.com  </td></tr>\n",
       "<tr><td>HITL Test Label       </td><td>projects/639644730573/locations/us/labelerPools/8064214206855062731 </td><td>marinadeletic@google.com</td></tr>\n",
       "</tbody>\n",
       "</table>"
      ],
      "text/plain": [
       "<IPython.core.display.HTML object>"
      ]
     },
     "metadata": {},
     "output_type": "display_data"
    }
   ],
   "source": [
    "from model_factory import http_client\n",
    "from IPython.display import HTML, display\n",
    "import tabulate\n",
    "\n",
    "dai_client = http_client.DocumentAIClient()\n",
    "response = dai_client.list_labeler_pools()\n",
    "if 'labelerPools' not in response or not response['labelerPools']:\n",
    "    print('Labeler pool not found.\\nPlease follow the Prerequisites section to create a labeler pool.')\n",
    "else:\n",
    "    print('Please select one labeler pool from below before running the next code block.')\n",
    "    table = [['Display Name', 'Labeler Pool','Managers']]\n",
    "    for pool in response['labelerPools']:\n",
    "        table.append([pool['displayName'],pool['name'],', '.join(pool['managerEmails'])])\n",
    "    display(HTML(tabulate.tabulate(table, tablefmt='html',headers='firstrow')))"
   ]
  },
  {
   "cell_type": "code",
   "execution_count": 11,
   "metadata": {},
   "outputs": [
    {
     "name": "stdout",
     "output_type": "stream",
     "text": [
      "Updating data labeling config...\n",
      "Done.\n"
     ]
    }
   ],
   "source": [
    "# Replace values below\n",
    "LABELER_POOL = 'projects/639644730573/locations/us/labelerPools/8064214206855062731' # Use a labeler pool from the above table\n",
    "\n",
    "# Use Schema provided by google for the document type\n",
    "SCHEMA = {\n",
    "    'displayName': 'Schema Labeling',\n",
    "    'description': 'Schema description',\n",
    "    'entityTypes': [\n",
    "        {\n",
    "            'type': 'name',\n",
    "            'baseType': 'text',\n",
    "            'occurrenceType': 'REQUIRED_ONCE',\n",
    "        },\n",
    "        {\n",
    "            'type': 'address',\n",
    "            'baseType': 'text',\n",
    "            'occurrenceType': 'REQUIRED_ONCE',\n",
    "        },\n",
    "        {\n",
    "            'type': 'date_of_birth',\n",
    "            'baseType': 'text',\n",
    "            'occurrenceType': 'REQUIRED_ONCE',\n",
    "        },\n",
    "        {\n",
    "            'type': 'licence_no',\n",
    "            'baseType': 'integer',\n",
    "            'occurrenceType': 'REQUIRED_ONCE',\n",
    "        },\n",
    "    ]\n",
    "}\n",
    "INSTRUCTION_URI = 'gs://md-instructions/instructions.pdf' # PDF instructions to be shared with labeler manager.\n",
    "\n",
    "new_processor.update_data_labeling_config(SCHEMA, INSTRUCTION_URI, LABELER_POOL)"
   ]
  },
  {
   "cell_type": "markdown",
   "metadata": {},
   "source": [
    "### Step 3: Import test documents.\n",
    "\n",
    "Specify the path of your raw test set created when de-identifying the documents. Expect at least 5 minutes for importing documents. "
   ]
  },
  {
   "cell_type": "code",
   "execution_count": 12,
   "metadata": {},
   "outputs": [
    {
     "name": "stderr",
     "output_type": "stream",
     "text": [
      "Read LRO states: 0it [00:00, ?it/s]\n",
      "Create LROs:   0%|          | 0/1 [00:00<?, ?it/s]"
     ]
    },
    {
     "name": "stdout",
     "output_type": "stream",
     "text": [
      "Found 1 new documents to import.\n"
     ]
    },
    {
     "name": "stderr",
     "output_type": "stream",
     "text": [
      "Create LROs: 100%|██████████| 1/1 [00:02<00:00,  2.16s/it]\n",
      "Wait for LROs: 100%|██████████| 1/1 [01:18<00:00, 78.79s/it]\n",
      "Process LRO outputs: 100%|██████████| 1/1 [00:00<00:00, 4369.07it/s]\n"
     ]
    }
   ],
   "source": [
    "# Replace value below\n",
    "TEST_SET_PATH = 'gs://deb-ai-test-vic_licence/input-raw/test' \n",
    "\n",
    "new_processor.import_documents(TEST_SET_PATH, 'test')"
   ]
  },
  {
   "cell_type": "markdown",
   "metadata": {},
   "source": [
    "### Step 4: Label documents.\n",
    "\n",
    "After you run the below code block, please go to the labeler manager console to assign the task to corresponding labelers so that they can see the tasks in the UI. Check [this document](https://docs.google.com/document/d/11okb4o5-QRG1Dr-a2xtCa3eb4YAnoqcPzkQu7FkxMO0/edit?resourcekey=0-dIJXlmaKj8-T76zyhZX0kA#bookmark=id.uay738ifr6s) for detail instructions for assigning task."
   ]
  },
  {
   "cell_type": "code",
   "execution_count": null,
   "metadata": {},
   "outputs": [
    {
     "name": "stderr",
     "output_type": "stream",
     "text": [
      "Read LRO names: 0it [00:00, ?it/s]\n",
      "Create LROs: 100%|██████████| 1/1 [00:00<00:00, 6213.78it/s]\n"
     ]
    },
    {
     "name": "stdout",
     "output_type": "stream",
     "text": [
      "Labeling task has been created.\n",
      "Please make sure the task has been assigned to raters / labelers.\n"
     ]
    },
    {
     "name": "stderr",
     "output_type": "stream",
     "text": [
      "Wait for LROs:   0%|          | 0/1 [00:00<?, ?it/s]"
     ]
    }
   ],
   "source": [
    "new_processor.label_dataset('test')"
   ]
  },
  {
   "cell_type": "code",
   "execution_count": null,
   "metadata": {},
   "outputs": [],
   "source": []
  }
 ],
 "metadata": {
  "environment": {
   "name": "common-cpu.m69",
   "type": "gcloud",
   "uri": "gcr.io/deeplearning-platform-release/base-cpu:m69"
  },
  "kernelspec": {
   "display_name": "Python 3",
   "language": "python",
   "name": "python3"
  },
  "language_info": {
   "codemirror_mode": {
    "name": "ipython",
    "version": 3
   },
   "file_extension": ".py",
   "mimetype": "text/x-python",
   "name": "python",
   "nbconvert_exporter": "python",
   "pygments_lexer": "ipython3",
   "version": "3.7.10"
  }
 },
 "nbformat": 4,
 "nbformat_minor": 4
}
